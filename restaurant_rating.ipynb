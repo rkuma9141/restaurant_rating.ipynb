import pandas as pd
import numpy as np
import matplotlib.pyplot as plt
import seaborn as sns
from sklearn.model_selection import train_test_split
from sklearn.preprocessing import LabelEncoder
from sklearn.ensemble import RandomForestRegressor
from sklearn.metrics import mean_squared_error, r2_score
## LOAD dataset
df = pd.read_csv('dataset/restaurant_data.csv')
df.head()
Restaurant Name   Location       Cuisines  Average Cost for two Has Table booking Has Online delivery  Aggregate rating
0          Aroma       Delhi     North Indian                   700              Yes                 Yes               4.2
1     Tasty Treat  Bangalore     South Indian                   500               No                 Yes               3.9
2     Food Planet     Mumbai        Fast Food                   300               No                  No               3.5
3       Spice Hub    Chennai           Indian                   600              Yes                  No               4.0
4     Street Zaika   Kolkata      Street Food                   250               No                 Yes               3.8


## DROP Missing Values ans Encoded
df = df.dropna()
le = LabelEncoder()
for col in df.select_dtypes(include='object').columns:
    df[col] = le.fit_transform(df[col])
df.head()

Restaurant Name  Location  Cuisines  Average Cost for two  Has Table booking  Has Online delivery  Aggregate rating
0                0         1         4                   700                  1                    1               4.2
1                6         0         5                   500                  0                    1               3.9
2                2         3         1                   300                  0                    0               3.5
3                7         2         3                   600                  1                    0               4.0
4                9         4         6                   250                  0                    1               3.8


## feature and Target
X = df.drop(['Aggregate rating'], axis=1)
y = df['Aggregate rating']
## split the data
X_train, X_test, y_train, y_test = train_test_split(X, y, test_size=0.2, random_state=42)

## predict and evulate
y_pred = model.predict(X_test)
print("R2 Score:", r2_score(y_test, y_pred))
print("MSE:", mean_squared_error(y_test, y_pred))
## out put
R2 Score: 0.9158
MSE: 0.0175

## plot the 
plt.figure(figsize=(8,5))
sns.scatterplot(x=y_test, y=y_pred)
plt.xlabel("Actual Ratings")
plt.ylabel("Predicted Ratings")
plt.title("Actual vs Predicted Restaurant Ratings")
plt.show()

# output
(A scatterplot will appear showing how close predicted ratings are to actual ratings)




